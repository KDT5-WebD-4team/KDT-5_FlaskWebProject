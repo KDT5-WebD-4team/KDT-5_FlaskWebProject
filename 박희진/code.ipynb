{
 "cells": [
  {
   "cell_type": "code",
   "execution_count": 32,
   "metadata": {},
   "outputs": [],
   "source": [
    "import pandas as pd\n",
    "import numpy as np\n",
    "import matplotlib.pyplot as plt\n",
    "import spacy\n",
    "import torch\n",
    "from torchtext.datasets import Multi30k\n",
    "from torchtext.data.utils import get_tokenizer\n",
    "from torchtext.vocab import build_vocab_from_iterator\n",
    "from torch import optim\n",
    "import torch.nn as nn"
   ]
  },
  {
   "cell_type": "code",
   "execution_count": 4,
   "metadata": {},
   "outputs": [
    {
     "name": "stdout",
     "output_type": "stream",
     "text": [
      "Defaulting to user installation because normal site-packages is not writeable\n",
      "Collecting openpyxl\n",
      "  Downloading openpyxl-3.1.2-py2.py3-none-any.whl.metadata (2.5 kB)\n",
      "Collecting et-xmlfile (from openpyxl)\n",
      "  Downloading et_xmlfile-1.1.0-py3-none-any.whl.metadata (1.8 kB)\n",
      "Downloading openpyxl-3.1.2-py2.py3-none-any.whl (249 kB)\n",
      "   ---------------------------------------- 0.0/250.0 kB ? eta -:--:--\n",
      "   - -------------------------------------- 10.2/250.0 kB ? eta -:--:--\n",
      "   ---- ---------------------------------- 30.7/250.0 kB 660.6 kB/s eta 0:00:01\n",
      "   ------------ -------------------------- 81.9/250.0 kB 762.6 kB/s eta 0:00:01\n",
      "   ------------------------------- -------- 194.6/250.0 kB 1.3 MB/s eta 0:00:01\n",
      "   ---------------------------------------- 250.0/250.0 kB 1.3 MB/s eta 0:00:00\n",
      "Downloading et_xmlfile-1.1.0-py3-none-any.whl (4.7 kB)\n",
      "Installing collected packages: et-xmlfile, openpyxl\n",
      "Successfully installed et-xmlfile-1.1.0 openpyxl-3.1.2\n"
     ]
    }
   ],
   "source": [
    "# !pip install openpyxl"
   ]
  },
  {
   "cell_type": "code",
   "execution_count": 30,
   "metadata": {},
   "outputs": [
    {
     "name": "stdout",
     "output_type": "stream",
     "text": [
      "Collecting transformers\n",
      "  Downloading transformers-4.40.0-py3-none-any.whl.metadata (137 kB)\n",
      "     ---------------------------------------- 0.0/137.6 kB ? eta -:--:--\n",
      "     -------- ------------------------------ 30.7/137.6 kB 1.3 MB/s eta 0:00:01\n",
      "     -------------------------------------- 137.6/137.6 kB 1.2 MB/s eta 0:00:00\n",
      "Requirement already satisfied: filelock in c:\\users\\mybae\\anaconda3\\envs\\torch17_nlp38\\lib\\site-packages (from transformers) (3.13.1)\n",
      "Collecting huggingface-hub<1.0,>=0.19.3 (from transformers)\n",
      "  Downloading huggingface_hub-0.22.2-py3-none-any.whl.metadata (12 kB)\n",
      "Requirement already satisfied: numpy>=1.17 in c:\\users\\mybae\\anaconda3\\envs\\torch17_nlp38\\lib\\site-packages (from transformers) (1.24.3)\n",
      "Requirement already satisfied: packaging>=20.0 in c:\\users\\mybae\\anaconda3\\envs\\torch17_nlp38\\lib\\site-packages (from transformers) (24.0)\n",
      "Requirement already satisfied: pyyaml>=5.1 in c:\\users\\mybae\\anaconda3\\envs\\torch17_nlp38\\lib\\site-packages (from transformers) (6.0.1)\n",
      "Requirement already satisfied: regex!=2019.12.17 in c:\\users\\mybae\\anaconda3\\envs\\torch17_nlp38\\lib\\site-packages (from transformers) (2023.10.3)\n",
      "Requirement already satisfied: requests in c:\\users\\mybae\\anaconda3\\envs\\torch17_nlp38\\lib\\site-packages (from transformers) (2.31.0)\n",
      "Collecting tokenizers<0.20,>=0.19 (from transformers)\n",
      "  Downloading tokenizers-0.19.1-cp38-none-win_amd64.whl.metadata (6.9 kB)\n",
      "Collecting safetensors>=0.4.1 (from transformers)\n",
      "  Downloading safetensors-0.4.3-cp38-none-win_amd64.whl.metadata (3.9 kB)\n",
      "Requirement already satisfied: tqdm>=4.27 in c:\\users\\mybae\\anaconda3\\envs\\torch17_nlp38\\lib\\site-packages (from transformers) (4.65.0)\n",
      "Requirement already satisfied: fsspec>=2023.5.0 in c:\\users\\mybae\\anaconda3\\envs\\torch17_nlp38\\lib\\site-packages (from huggingface-hub<1.0,>=0.19.3->transformers) (2024.3.1)\n",
      "Requirement already satisfied: typing-extensions>=3.7.4.3 in c:\\users\\mybae\\anaconda3\\envs\\torch17_nlp38\\lib\\site-packages (from huggingface-hub<1.0,>=0.19.3->transformers) (4.9.0)\n",
      "Requirement already satisfied: colorama in c:\\users\\mybae\\anaconda3\\envs\\torch17_nlp38\\lib\\site-packages (from tqdm>=4.27->transformers) (0.4.6)\n",
      "Requirement already satisfied: charset-normalizer<4,>=2 in c:\\users\\mybae\\anaconda3\\envs\\torch17_nlp38\\lib\\site-packages (from requests->transformers) (2.0.4)\n",
      "Requirement already satisfied: idna<4,>=2.5 in c:\\users\\mybae\\anaconda3\\envs\\torch17_nlp38\\lib\\site-packages (from requests->transformers) (3.4)\n",
      "Requirement already satisfied: urllib3<3,>=1.21.1 in c:\\users\\mybae\\anaconda3\\envs\\torch17_nlp38\\lib\\site-packages (from requests->transformers) (2.1.0)\n",
      "Requirement already satisfied: certifi>=2017.4.17 in c:\\users\\mybae\\anaconda3\\envs\\torch17_nlp38\\lib\\site-packages (from requests->transformers) (2024.2.2)\n",
      "Downloading transformers-4.40.0-py3-none-any.whl (9.0 MB)\n",
      "   ---------------------------------------- 0.0/9.0 MB ? eta -:--:--\n",
      "   - -------------------------------------- 0.4/9.0 MB 8.2 MB/s eta 0:00:02\n",
      "   ---- ----------------------------------- 1.0/9.0 MB 13.3 MB/s eta 0:00:01\n",
      "   ------ --------------------------------- 1.5/9.0 MB 13.5 MB/s eta 0:00:01\n",
      "   ------ --------------------------------- 1.5/9.0 MB 13.5 MB/s eta 0:00:01\n",
      "   ------ --------------------------------- 1.5/9.0 MB 13.5 MB/s eta 0:00:01\n",
      "   ------ --------------------------------- 1.5/9.0 MB 13.5 MB/s eta 0:00:01\n",
      "   ------ --------------------------------- 1.5/9.0 MB 13.5 MB/s eta 0:00:01\n",
      "   ------ --------------------------------- 1.5/9.0 MB 13.5 MB/s eta 0:00:01\n",
      "   ----------- ---------------------------- 2.5/9.0 MB 6.2 MB/s eta 0:00:02\n",
      "   ----------- ---------------------------- 2.6/9.0 MB 5.8 MB/s eta 0:00:02\n",
      "   ------------------ --------------------- 4.2/9.0 MB 8.1 MB/s eta 0:00:01\n",
      "   --------------------------- ------------ 6.1/9.0 MB 10.8 MB/s eta 0:00:01\n",
      "   ---------------------------------------  9.0/9.0 MB 15.1 MB/s eta 0:00:01\n",
      "   ---------------------------------------- 9.0/9.0 MB 14.4 MB/s eta 0:00:00\n",
      "Downloading huggingface_hub-0.22.2-py3-none-any.whl (388 kB)\n",
      "   ---------------------------------------- 0.0/388.9 kB ? eta -:--:--\n",
      "   ---------------------------------------- 388.9/388.9 kB ? eta 0:00:00\n",
      "Downloading safetensors-0.4.3-cp38-none-win_amd64.whl (286 kB)\n",
      "   ---------------------------------------- 0.0/286.9 kB ? eta -:--:--\n",
      "   ---------------------------------------  286.7/286.9 kB 8.9 MB/s eta 0:00:01\n",
      "   ---------------------------------------- 286.9/286.9 kB 5.9 MB/s eta 0:00:00\n",
      "Downloading tokenizers-0.19.1-cp38-none-win_amd64.whl (2.2 MB)\n",
      "   ---------------------------------------- 0.0/2.2 MB ? eta -:--:--\n",
      "   ---------------------------------------- 2.2/2.2 MB 71.3 MB/s eta 0:00:00\n",
      "Installing collected packages: safetensors, huggingface-hub, tokenizers, transformers\n",
      "Successfully installed huggingface-hub-0.22.2 safetensors-0.4.3 tokenizers-0.19.1 transformers-4.40.0\n"
     ]
    }
   ],
   "source": [
    "# !pip install transformers"
   ]
  },
  {
   "cell_type": "code",
   "execution_count": 42,
   "metadata": {},
   "outputs": [],
   "source": [
    "en = pd.read_excel('data/English.xlsx', usecols=['seg'])\n",
    "de = pd.read_excel('data/German.xlsx', usecols=['seg'])\n",
    "\n",
    "\n",
    "spacy_en = spacy.load('en_core_web_sm')\n",
    "spacy_de = spacy.load('de_core_news_sm')\n",
    "\n",
    "# 토큰화 함수\n",
    "# 독일어\n",
    "def tokenize_de(text):\n",
    "    return [tok.text for tok in spacy_de.tokenizer(text)]\n",
    "\n",
    "# 영어\n",
    "def tokenize_en(text):\n",
    "    return [tok.text for tok in spacy_en.tokenizer(text)]\n",
    "\n",
    "# 토큰화 함수 적용\n",
    "de_tok = [tokenize_de(text) for text in de['seg']]\n",
    "en_tok = [tokenize_en(text) for text in en['seg']]\n",
    "\n",
    "\n",
    "UNK, PAD, BOS, EOS = (0, 1, 2, 3)\n",
    "special_symbols = ['<unk>', '<pad>', '<bos>', '<eos>']\n",
    "\n",
    "# 어휘사전 구축\n",
    "vocab_de = build_vocab_from_iterator(de_tok, min_freq=1, special_first=True, specials=special_symbols)\n",
    "vocab_en = build_vocab_from_iterator(en_tok, min_freq=1, special_first=True, specials=special_symbols)\n",
    "\n",
    "# 특수 토큰의 기본 인덱스 설정\n",
    "for vocab in [vocab_de, vocab_en]:\n",
    "    vocab.set_default_index(UNK)"
   ]
  },
  {
   "cell_type": "code",
   "execution_count": 41,
   "metadata": {},
   "outputs": [],
   "source": [
    "\n",
    "for i in de_tok:\n",
    "    print(i)\n",
    "    break"
   ]
  },
  {
   "cell_type": "code",
   "execution_count": 57,
   "metadata": {},
   "outputs": [
    {
     "data": {
      "image/png": "[encoded data removed]",
      "text/plain": [
       "<Figure size 1000x500 with 1 Axes>"
      ]
     },
     "metadata": {},
     "output_type": "display_data"
    }
   ],
   "source": [
    "import matplotlib.pyplot as plt\n",
    "\n",
    "# 각 언어의 토큰 갯수 저장\n",
    "de_token_lengths = [len(tokens) for tokens in de_tok]\n",
    "en_token_lengths = [len(tokens) for tokens in en_tok]\n",
    "\n",
    "# 히스토그램 생성\n",
    "plt.figure(figsize=(10, 5))\n",
    "plt.hist([de_token_lengths, en_token_lengths], bins=50, label=['German', 'English'], color=['pink', 'lightblue'])\n",
    "plt.title('Token Length Distribution')\n",
    "plt.xlabel('Token Count')\n",
    "plt.ylabel('Frequency')\n",
    "plt.legend()\n",
    "\n",
    "# 최대값 텍스트 추가\n",
    "max_de = max(de_token_lengths)\n",
    "max_en = max(en_token_lengths)\n",
    "plt.text(max_de, plt.gca().get_ylim()[1], f'de Max: {max_de}', horizontalalignment='right', verticalalignment='bottom', color='blue')\n",
    "plt.text(max_en, plt.gca().get_ylim()[1], f'en Max: {max_en}', horizontalalignment='right', verticalalignment='bottom', color='blue')\n",
    "\n",
    "plt.grid(True)\n",
    "plt.show()\n",
    "\n"
   ]
  },
  {
   "cell_type": "code",
   "execution_count": 37,
   "metadata": {},
   "outputs": [
    {
     "data": {
      "text/plain": [
       "<generator object <genexpr> at 0x000002501F5A5F20>"
      ]
     },
     "execution_count": 37,
     "metadata": {},
     "output_type": "execute_result"
    }
   ],
   "source": [
    "de_tok"
   ]
  },
  {
   "cell_type": "code",
   "execution_count": 15,
   "metadata": {},
   "outputs": [],
   "source": [
    "import math\n",
    "class PositionalEncoding(nn.Module):\n",
    "    def __init__(self, d_model, max_len, dropout=0.1):\n",
    "        super(PositionalEncoding, self).__init__()\n",
    "        self.dropout = nn.Dropout(p=dropout)\n",
    "\n",
    "        # 포지션 정보 계산\n",
    "        position = torch.arange(max_len).unsqueeze(1)\n",
    "        div_term = torch.exp(torch.arange(0, d_model, 2) * (-math.log(10000.0) / d_model))\n",
    "\n",
    "        # 사인과 코사인 함수를 사용하여 포지션 인코딩 값 계산\n",
    "        pe = torch.zeros(max_len, 1, d_model)\n",
    "        pe[:, 0, 0::2] = torch.sin(position * div_term)\n",
    "        pe[:, 0, 1::2] = torch.cos(position * div_term)\n",
    "\n",
    "        self.register_buffer('pe', pe)\n",
    "        \n",
    "    def forward(self, x):\n",
    "        x = x + self.pe[:x.size(0)]\n",
    "        return self.dropout(x)\n",
    "\n",
    "\n",
    "class TokenEmbedding(nn.Module):\n",
    "    def __init__(self, vocab_size, emb_size):\n",
    "        super(TokenEmbedding, self).__init__()\n",
    "        self.embedding = nn.Embedding(vocab_size, emb_size)\n",
    "        self.emb_size = emb_size\n",
    "\n",
    "    def forward(self, x):\n",
    "        return self.embedding(x.long()) * math.sqrt(self.emb_size)\n",
    "    \n",
    "\n",
    "class Seq2SeqTransformer(nn.Module):\n",
    "    def __init__(\n",
    "    self,\n",
    "    num_encoder_layers,  # 인코더의 레이어 수\n",
    "    num_decoder_layers,  # 디코더의 레이어 수\n",
    "    emb_size,  # 임베딩 차원의 크기\n",
    "    max_len,  # 입력 시퀀스의 최대 길이\n",
    "    nhead,  # 멀티 헤드 어텐션의 헤드 수\n",
    "    src_vocab_size,  # 소스 언어의 어휘 크기\n",
    "    tgt_vocab_size,  # 타겟 언어의 어휘 크기\n",
    "    dim_feedforward,  # 피드포워드 신경망의 은닉층 크기\n",
    "    dropout=0.1,  # 드롭아웃 비율 (기본값은 0.1)\n",
    "):\n",
    "        super(Seq2SeqTransformer, self).__init__()\n",
    "            # 소스와 타겟 토큰 임베딩 레이어 초기화\n",
    "        self.src_tok_emb = TokenEmbedding(src_vocab_size, emb_size)\n",
    "        self.tgt_tok_emb = TokenEmbedding(tgt_vocab_size, emb_size)\n",
    "            \n",
    "            # 포지션 인코딩 초기화\n",
    "        self.positional_encoding = PositionalEncoding(\n",
    "                emb_size, max_len, dropout\n",
    "                )\n",
    "            \n",
    "            # 트랜스포머 모델 초기화\n",
    "        self.transformer = nn.Transformer(\n",
    "                emb_size, nhead, num_encoder_layers, num_decoder_layers,\n",
    "                dim_feedforward, dropout, activation=\"relu\")\n",
    "            \n",
    "            # 최종 출력 레이어 초기화\n",
    "        self.final_layer = nn.Linear(emb_size, tgt_vocab_size)\n",
    "\n",
    "    def forward(\n",
    "        self,\n",
    "        src,\n",
    "        trg,\n",
    "        src_mask,\n",
    "        tgt_mask,\n",
    "        src_padding_mask,\n",
    "        tgt_padding_mask,\n",
    "        memory_key_padding_mask,\n",
    "    ):\n",
    "        # 소스와 타겟 시퀀스에 포지셔널 인코딩 적용\n",
    "        src = self.positional_encoding(self.src_tok_emb(src))\n",
    "        trg = self.positional_encoding(self.tgt_tok_emb(trg))\n",
    "        \n",
    "        # 트랜스포머 모델에 입력\n",
    "        output = self.transformer(\n",
    "            src, trg, src_mask=src_mask, tgt_mask=tgt_mask,\n",
    "            memory_key_padding_mask=memory_key_padding_mask,\n",
    "            src_key_padding_mask=src_padding_mask,\n",
    "            tgt_key_padding_mask=tgt_padding_mask,\n",
    "            memory_mask = None)\n",
    "        \n",
    "        # 최종 출력 레이어에 적용\n",
    "        output = self.final_layer(output)\n",
    "        \n",
    "        return output\n",
    "    \n",
    "    def encode(self, src, src_mask):\n",
    "        return self.transformer.encoder(self.positional_encoding(self.src_tok_emb(src)), src_mask)\n",
    "\n",
    "    def decode(self, tgt, memory, tgt_mask):\n",
    "        return self.transformer.decoder(self.positional_encoding(self.tgt_tok_emb(tgt)), memory, tgt_mask=tgt_mask)\n",
    "             "
   ]
  },
  {
   "cell_type": "code",
   "execution_count": null,
   "metadata": {},
   "outputs": [],
   "source": []
  },
  {
   "cell_type": "code",
   "execution_count": null,
   "metadata": {},
   "outputs": [],
   "source": []
  }
 ],
 "metadata": {
  "kernelspec": {
   "display_name": "TORCH17_NLP38",
   "language": "python",
   "name": "python3"
  },
  "language_info": {
   "codemirror_mode": {
    "name": "ipython",
    "version": 3
   },
   "file_extension": ".py",
   "mimetype": "text/x-python",
   "name": "python",
   "nbconvert_exporter": "python",
   "pygments_lexer": "ipython3",
   "version": "3.8.19"
  }
 },
 "nbformat": 4,
 "nbformat_minor": 2
}
